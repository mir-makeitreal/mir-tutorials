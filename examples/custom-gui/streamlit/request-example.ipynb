{
 "cells": [
  {
   "cell_type": "code",
   "execution_count": 1,
   "metadata": {},
   "outputs": [
    {
     "name": "stdout",
     "output_type": "stream",
     "text": [
      "컨텍스트에 따르면, 어린 왕자가 떠나온 별은 소행성 B612호라고 믿어집니다. 이 소행성은 1909년 터키 천문학자에 의해 한 번 관측되었다고 합니다."
     ]
    }
   ],
   "source": [
    "import requests\n",
    "import json\n",
    "import sys\n",
    "from dotenv import load_dotenv\n",
    "import os\n",
    "\n",
    "####### 본인 것으로 수정하기 ########\n",
    "user_id = 'email_address' # example: 'xxx@gmail.com'\n",
    "################################\n",
    " \n",
    "base_url = 'https://mir-api.52g.ai/v1'\n",
    "url = f\"{base_url}/chat-messages\"\n",
    "\n",
    "load_dotenv('.env-vars', override=True)\n",
    "mir_api_key = os.getenv(\"MIR_API_KEY\")\n",
    " \n",
    "# 요청 데이터 구성\n",
    "headers = {\n",
    "    \"Content-Type\": \"application/json\",\n",
    "    \"Authorization\": f\"Bearer {mir_api_key}\"  # 필요한 경우 인증 토큰 추가\n",
    "}\n",
    "\n",
    "query = '어린왕자는 어느 별에서 왔나?'\n",
    "\n",
    " \n",
    "# request payload 정의\n",
    "payload = {\n",
    "    \"query\": query,\n",
    "    \"inputs\": {\n",
    "        \"query\": query,\n",
    "    },  # 변수 값이 있을 경우 여기서 key-value 추가\n",
    "    \"response_mode\": \"streaming\",  # streaming 또는 blocking 선택 가능\n",
    "    \"user\": user_id,  # 사용자 ID (=미르 로그인 ID)\n",
    "    \"conversation_id\": \"\",  # 대화 ID. 비워두면 새 대화 ID가 응답을 통해 반환됨. 기존 대화를 이어나가려면 이전 대화 ID를 입력하기.   \n",
    "    \"auto_generate_name\": True\n",
    "}\n",
    "\n",
    "\n",
    "# POST 요청 전송\n",
    "try:\n",
    "    # response = requests.post(url, headers=headers, data=json.dumps(payload), stream=False)\n",
    "    response = requests.post(url, headers=headers, data=json.dumps(payload), stream=True)\n",
    "    if response.status_code == 200:\n",
    "        for line in response.iter_lines(decode_unicode=True):\n",
    "            if line.startswith('data: '):\n",
    "                chunk = json.loads(line[6:])  # 'data: ' 이후 JSON 파싱\n",
    "                if chunk.get('answer'):\n",
    "                    sys.stdout.write(chunk.get('answer', ''))\n",
    "                    sys.stdout.flush()\n",
    " \n",
    "    else:\n",
    "        print(f\"Error {response.status_code}: {response.text}\")\n",
    "except requests.RequestException as e:\n",
    "    print(f\"Request failed: {e}\")"
   ]
  }
 ],
 "metadata": {
  "kernelspec": {
   "display_name": "mir-tutorials-custom-gui-streamlit",
   "language": "python",
   "name": "python3"
  },
  "language_info": {
   "codemirror_mode": {
    "name": "ipython",
    "version": 3
   },
   "file_extension": ".py",
   "mimetype": "text/x-python",
   "name": "python",
   "nbconvert_exporter": "python",
   "pygments_lexer": "ipython3",
   "version": "3.8.12"
  }
 },
 "nbformat": 4,
 "nbformat_minor": 2
}
